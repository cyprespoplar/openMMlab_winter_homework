{
 "cells": [
  {
   "cell_type": "code",
   "execution_count": 1,
   "metadata": {},
   "outputs": [
    {
     "name": "stdout",
     "output_type": "stream",
     "text": [
      "C:\\Users\\young\\pythonlearn\\pytorch\\firstHomework\n"
     ]
    }
   ],
   "source": [
    "import os\n",
    "print(os.getcwd())"
   ]
  },
  {
   "cell_type": "code",
   "execution_count": 2,
   "metadata": {},
   "outputs": [
    {
     "name": "stdout",
     "output_type": "stream",
     "text": [
      "None\n",
      "['daisy', 'dandelion', 'rose', 'sunflower', 'tulip']\n"
     ]
    }
   ],
   "source": [
    "print(os.chdir('./data/flower_dataset/'))\n",
    "flower_class = os.listdir(\"./\")\n",
    "print(flower_class)"
   ]
  },
  {
   "cell_type": "code",
   "execution_count": 3,
   "metadata": {},
   "outputs": [
    {
     "name": "stdout",
     "output_type": "stream",
     "text": [
      "daisy\n",
      "dandelion\n",
      "rose\n",
      "sunflower\n",
      "tulip\n"
     ]
    }
   ],
   "source": [
    "f = open(\"classes.txt\",\"w\")\n",
    "# flower_class.pop(0)\n",
    "for i in flower_class:\n",
    "    f.write(i+'\\n')\n",
    "    print(i)\n",
    "f.close()"
   ]
  },
  {
   "cell_type": "code",
   "execution_count": 4,
   "metadata": {},
   "outputs": [],
   "source": [
    "os.mkdir(\"train\")\n",
    "os.mkdir(\"val\")\n",
    "os.mkdir(\"test\")"
   ]
  },
  {
   "cell_type": "code",
   "execution_count": 8,
   "metadata": {},
   "outputs": [
    {
     "data": {
      "text/plain": [
       "0"
      ]
     },
     "execution_count": 8,
     "metadata": {},
     "output_type": "execute_result"
    }
   ],
   "source": [
    "#os.system(\"rmdir train val\")"
   ]
  },
  {
   "cell_type": "code",
   "execution_count": 5,
   "metadata": {},
   "outputs": [],
   "source": [
    "os.chdir(\"train\")\n",
    "for i in flower_class:\n",
    "#     os.system(f\"rmdir {i}\")\n",
    "    os.mkdir(i)\n",
    "os.chdir(\"../val\")\n",
    "for i in flower_class:\n",
    "    os.mkdir(i)\n",
    "os.chdir(\"../test\")\n",
    "for i in flower_class:\n",
    "    os.mkdir(i)"
   ]
  },
  {
   "cell_type": "code",
   "execution_count": 6,
   "metadata": {},
   "outputs": [],
   "source": [
    "os.chdir(\"../\")"
   ]
  },
  {
   "cell_type": "code",
   "execution_count": 7,
   "metadata": {},
   "outputs": [
    {
     "name": "stdout",
     "output_type": "stream",
     "text": [
      "588\n",
      "556\n",
      "583\n",
      "536\n",
      "585\n",
      "done\n"
     ]
    }
   ],
   "source": [
    "import random\n",
    "t = open(\"train.txt\",\"w\")\n",
    "v = open(\"val.txt\",\"w\")\n",
    "te = open(\"test.txt\",\"w\")\n",
    "flag = 0\n",
    "for flower in flower_class:\n",
    "    pathtrain = f\"../train/{flower}/\"\n",
    "    pathval = f\"../val/{flower}/\"\n",
    "    pathtest = f\"../test/{flower}/\"\n",
    "    os.chdir(flower)\n",
    "    flower_pic = os.listdir('./')\n",
    "    for name in flower_pic:\n",
    "        if name[-3:]!=\"jpg\":\n",
    "            flower_pic.remove(name)\n",
    "    random.shuffle(flower_pic)\n",
    "    print(len(flower_pic))\n",
    "    for i in range(len(flower_pic)//5):\n",
    "        os.system(f'move {flower_pic[i]} {pathval}')\n",
    "        v.write(flower+\"/\"+flower_pic[i]+f\" {flag}\\n\")\n",
    "        flower_pic.pop(i)\n",
    "    for i in range(len(flower_pic)//4):\n",
    "        os.system(f'move {flower_pic[i]} {pathtest}')\n",
    "        te.write(flower+\"/\"+flower_pic[i]+f\" {flag}\\n\")\n",
    "        flower_pic.pop(i)\n",
    "    for i in flower_pic:\n",
    "        os.system(f'move {i} {pathtrain}')\n",
    "        t.write(flower+\"/\"+i+f\" {flag}\\n\")\n",
    "    os.chdir(\"..\")\n",
    "    flag+=1\n",
    "print(\"done\")\n",
    "t.close()\n",
    "v.close()\n",
    "te.close()"
   ]
  },
  {
   "cell_type": "code",
   "execution_count": 10,
   "metadata": {},
   "outputs": [],
   "source": [
    "\n"
   ]
  },
  {
   "cell_type": "code",
   "execution_count": null,
   "metadata": {},
   "outputs": [],
   "source": []
  }
 ],
 "metadata": {
  "kernelspec": {
   "display_name": "torch",
   "language": "python",
   "name": "torch"
  },
  "language_info": {
   "codemirror_mode": {
    "name": "ipython",
    "version": 3
   },
   "file_extension": ".py",
   "mimetype": "text/x-python",
   "name": "python",
   "nbconvert_exporter": "python",
   "pygments_lexer": "ipython3",
   "version": "3.8.0"
  }
 },
 "nbformat": 4,
 "nbformat_minor": 4
}
